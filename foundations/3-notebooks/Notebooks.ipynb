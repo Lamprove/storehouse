{
 "cells": [
  {
   "attachments": {},
   "cell_type": "markdown",
   "metadata": {},
   "source": [
    "# Notebooks\n",
    "\n",
    "**Setup: click the 'Kernels' or 'Detecting Kernels' button at the top right of this notebook. Click 'Python Environments' then select our 'classml_py39' environment. You will need to do this with Jupyter Notebook you open throughout this course.** \n",
    "\n",
    "## What are Jupyter Notebooks?\n",
    "\n",
    "Jupyter Notebooks are interactive files (with the .ipynb extension) that allow you to create and share live code, equations, visualisations, and narrative text. They're great for learning and experimenting with programming, as well as for data analysis, scientific research, and more.\n",
    "\n",
    "## Jupyter Notebooks in VSCode\n",
    "\n",
    "We will be using Notebooks in VSCode for many of our Data & AI tasks during this course. Use this notebook as a basic introduction and reference point for how to work with these notebooks.\n"
   ]
  },
  {
   "attachments": {},
   "cell_type": "markdown",
   "metadata": {},
   "source": [
    "\n",
    "## Basic Usage\n",
    "\n",
    "In a Jupyter Notebook, you can create different types of cells, such as code cells and markdown cells. Code cells contain executable code, while markdown cells contain text, equations, or images.\n",
    "\n",
    "*   To **add a new cell**, click on the \"+\" button in the notebook toolbar (or by hovering below the middle of each cell) or press `Shift + Enter` after selecting a cell.\n",
    "*   To **change the cell type**, click on the cell type indicator in the bottom right of each cell (this cell should say \"Markdown\") and choose the desired cell type from the dropdown menu.\n",
    "*   To **run a code cell**, click on the Play button to the left of each cell or press `Shift + Enter` while the cell is selected. The output will appear below the cell.\n",
    "Try it! Run the next cell and view the output. \n"
   ]
  },
  {
   "cell_type": "code",
   "execution_count": null,
   "metadata": {},
   "outputs": [],
   "source": [
    "print('This is a python cell')"
   ]
  },
  {
   "attachments": {},
   "cell_type": "markdown",
   "metadata": {},
   "source": [
    "\n",
    "To **edit a markdown cell**, double-click on the cell. To render the markdown, click on the check mark on the top right of the cell or press `Shift + Enter` while the cell is selected.\n",
    "\n",
    "Remember to save your notebook regularly to avoid losing any work!\n"
   ]
  },
  {
   "attachments": {},
   "cell_type": "markdown",
   "metadata": {},
   "source": [
    "\n",
    "## Additional Resources\n",
    "\n",
    "To learn more about Jupyter Notebooks, Python, and VSCode, check out the following resources:\n",
    "\n",
    "*   [Jupyter Notebooks documentation](https://code.visualstudio.com/docs/datascience/jupyter-notebooks)\n",
    "*   [VSCode documentation](https://code.visualstudio.com/docs)"
   ]
  }
 ],
 "metadata": {
  "kernelspec": {
   "display_name": "azureml_py310_sdkv2",
   "language": "python",
   "name": "python3"
  },
  "language_info": {
   "codemirror_mode": {
    "name": "ipython",
    "version": 3
   },
   "file_extension": ".py",
   "mimetype": "text/x-python",
   "name": "python",
   "nbconvert_exporter": "python",
   "pygments_lexer": "ipython3",
   "version": "3.9.16"
  },
  "orig_nbformat": 4
 },
 "nbformat": 4,
 "nbformat_minor": 2
}
