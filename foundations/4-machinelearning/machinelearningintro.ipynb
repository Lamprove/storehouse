{
 "cells": [
  {
   "attachments": {},
   "cell_type": "markdown",
   "metadata": {},
   "source": [
    "# Introduction to Python for Machine Learning  \n",
    "\n",
    "**Setup: click the 'Kernels' or 'Detecting Kernels' button at the top right of this notebook. Click 'Python Environments' then select our 'storehouse' environment. You will need to do this with Jupyter Notebook you open throughout this course.**\n",
    "  \n",
    "This notebook provides a basic introduction to Python for Machine Learning. We will cover the following topics:  \n",
    "  \n",
    "1. Importing libraries  \n",
    "2. Loading a dataset  \n",
    "3. Exploratory data analysis  \n",
    "4. Data preprocessing  \n",
    "5. Training a simple machine learning model  \n",
    "\n",
    "Note: Don't worry too much if you don't fully understand what's happening in the cells below. We will explore these concepts deeper in future modules. For now, use this as brief hands on introduction to the high level concepts of the Machine Learning process. "
   ]
  },
  {
   "cell_type": "code",
   "execution_count": null,
   "metadata": {},
   "outputs": [],
   "source": [
    "# Import python libraries to be used in this notebook\n",
    "\n",
    "import pandas as pd  \n",
    "import numpy as np  \n",
    "from sklearn.model_selection import train_test_split  \n",
    "from sklearn.neighbors import KNeighborsClassifier  \n",
    "from sklearn.metrics import accuracy_score  "
   ]
  },
  {
   "attachments": {},
   "cell_type": "markdown",
   "metadata": {},
   "source": [
    "## Loading a dataset  \n",
    "  \n",
    "We will use the Iris dataset, which is available in the `sklearn.datasets` module.  "
   ]
  },
  {
   "cell_type": "code",
   "execution_count": null,
   "metadata": {},
   "outputs": [],
   "source": [
    "from sklearn.datasets import load_iris  \n",
    "iris = load_iris()  \n",
    "# Save the dataset features to the variable 'X'\n",
    "X = iris.data  \n",
    "# Save the target outcome to the target variable 'y'\n",
    "y = iris.target  "
   ]
  },
  {
   "attachments": {},
   "cell_type": "markdown",
   "metadata": {},
   "source": [
    "## Exploratory Data Analysis  \n",
    "  \n",
    "Let's take a look at the dataset using Pandas.  "
   ]
  },
  {
   "cell_type": "code",
   "execution_count": null,
   "metadata": {},
   "outputs": [],
   "source": [
    "# Load the data as a pandas Dataframe\n",
    "df = pd.DataFrame(X, columns=iris.feature_names)  \n",
    "# Add the target variable as the last column\n",
    "df['species'] = y  \n",
    "df.head()  \n",
    " "
   ]
  },
  {
   "attachments": {},
   "cell_type": "markdown",
   "metadata": {},
   "source": [
    "## Data Preprocessing  \n",
    "  \n",
    "We will split the dataset into training and testing sets.  "
   ]
  },
  {
   "cell_type": "code",
   "execution_count": null,
   "metadata": {},
   "outputs": [],
   "source": [
    "# This will create a feature set for training and testing, and a corresponding target set for training and testing\n",
    "X_train, X_test, y_train, y_test = train_test_split(X, y, test_size=0.3, random_state=42)  "
   ]
  },
  {
   "attachments": {},
   "cell_type": "markdown",
   "metadata": {},
   "source": [
    "## Training a Simple Machine Learning Model  \n",
    "  \n",
    "We will train a simple K-Nearest Neighbors classifier on the dataset.  \n",
    "For more information on the K-Nearest algorithm, view [this page](https://scikit-learn.org/stable/modules/neighbors.html#classification). "
   ]
  },
  {
   "cell_type": "code",
   "execution_count": null,
   "metadata": {},
   "outputs": [],
   "source": [
    "model = KNeighborsClassifier(n_neighbors=3)  \n",
    "model.fit(X_train, y_train)  "
   ]
  },
  {
   "attachments": {},
   "cell_type": "markdown",
   "metadata": {},
   "source": [
    "## Evaluating the Model  \n",
    "  \n",
    "We will evaluate the model using the accuracy score.  "
   ]
  },
  {
   "cell_type": "code",
   "execution_count": null,
   "metadata": {},
   "outputs": [],
   "source": [
    "# Get predictions on the feature test set\n",
    "y_pred = model.predict(X_test)  \n",
    "# Calculate the accuracy of what the target should have been (y_test) compared to the predicted targets (y_pred)\n",
    "accuracy = accuracy_score(y_test, y_pred)  \n",
    "print(f\"Accuracy: {np.round(accuracy * 100, 2)}%\")  "
   ]
  }
 ],
 "metadata": {
  "kernelspec": {
   "display_name": "azureml_py310_sdkv2",
   "language": "python",
   "name": "python3"
  },
  "language_info": {
   "codemirror_mode": {
    "name": "ipython",
    "version": 3
   },
   "file_extension": ".py",
   "mimetype": "text/x-python",
   "name": "python",
   "nbconvert_exporter": "python",
   "pygments_lexer": "ipython3",
   "version": "3.10.10"
  },
  "orig_nbformat": 4
 },
 "nbformat": 4,
 "nbformat_minor": 2
}
